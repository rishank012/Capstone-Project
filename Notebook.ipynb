{
  "cells": [
    {
      "cell_type": "markdown",
      "metadata": {
        "id": "view-in-github",
        "colab_type": "text"
      },
      "source": [
        "<a href=\"https://colab.research.google.com/github/rishank012/Capstone-Project/blob/main/Notebook.ipynb\" target=\"_parent\"><img src=\"https://colab.research.google.com/assets/colab-badge.svg\" alt=\"Open In Colab\"/></a>"
      ]
    },
    {
      "cell_type": "code",
      "execution_count": null,
      "metadata": {
        "id": "LlwkKnB50IGF"
      },
      "outputs": [],
      "source": [
        "!pip install pathway bokeh panel --quiet"
      ]
    },
    {
      "cell_type": "code",
      "execution_count": null,
      "metadata": {
        "id": "pHuc1nkJveN3"
      },
      "outputs": [],
      "source": [
        "import pandas as pd\n",
        "import pathway as pw\n",
        "import bokeh.plotting\n",
        "from bokeh.models import LinearAxis, Range1d, HoverTool\n",
        "from bokeh.transform import linear_cmap\n",
        "import panel as pn\n",
        "import os"
      ]
    },
    {
      "cell_type": "markdown",
      "metadata": {
        "id": "gGpZl1FxjFXE"
      },
      "source": [
        "# Step 1: Importing and Preprocessing the Data"
      ]
    },
    {
      "cell_type": "code",
      "source": [
        "    from google.colab import files\n",
        "    uploaded = files.upload()"
      ],
      "metadata": {
        "id": "aENcjJbyGrjs"
      },
      "execution_count": null,
      "outputs": []
    },
    {
      "cell_type": "code",
      "execution_count": null,
      "metadata": {
        "id": "4D6geoV9veN3"
      },
      "outputs": [],
      "source": [
        "df = pd.read_csv('dataset.csv')\n",
        "df"
      ]
    },
    {
      "cell_type": "code",
      "source": [
        "to_num = ['ID','Occupancy','Capacity','QueueLength','TrafficConditionNearby','IsSpecialDay']\n",
        "df[to_num] = (\n",
        "    df[to_num]\n",
        "      .apply(lambda c: pd.to_numeric(c, errors='coerce'))\n",
        "      .fillna(0)\n",
        ")"
      ],
      "metadata": {
        "id": "KAqr4xZNmBXW"
      },
      "execution_count": null,
      "outputs": []
    },
    {
      "cell_type": "code",
      "source": [
        "df['Timestamp'] = pd.to_datetime(\n",
        "    df['LastUpdatedDate'] + ' ' + df['LastUpdatedTime'],\n",
        "    format='%d-%m-%Y %H:%M:%S'\n",
        ")\n",
        "df = df.sort_values(['ID','Timestamp']).reset_index(drop=True)"
      ],
      "metadata": {
        "id": "zbJGFAz4Lvfl"
      },
      "execution_count": null,
      "outputs": []
    },
    {
      "cell_type": "markdown",
      "source": [
        "# Feature Engineering:"
      ],
      "metadata": {
        "id": "kiqvuzd8cxtE"
      }
    },
    {
      "cell_type": "code",
      "execution_count": null,
      "metadata": {
        "id": "c52UkGGpveN5"
      },
      "outputs": [],
      "source": [
        "df['occ_rate'] = df['Occupancy'] / df['Capacity']\n",
        "\n",
        "for col in ['QueueLength','TrafficConditionNearby']:\n",
        "    mn = df.groupby('ID')[col].transform('min')\n",
        "    mx = df.groupby('ID')[col].transform('max')\n",
        "    df[f'{col}_norm'] = (df[col] - mn) / (mx - mn + 1e-6)\n",
        "\n",
        "vt_map = {'car':1.0,'bike':0.5,'truck':1.5}\n",
        "df['VT_weight'] = df['VehicleType'].map(vt_map).fillna(1.0)"
      ]
    },
    {
      "cell_type": "markdown",
      "source": [
        "### **Model 1:** *Baseline Linear Model*"
      ],
      "metadata": {
        "id": "pj1PQM7hdMS8"
      }
    },
    {
      "cell_type": "code",
      "source": [
        "alpha = 0.5\n",
        "df['delta1'] = alpha * df['occ_rate']\n",
        "df['price_m1'] = df.groupby('ID')['delta1'].cumsum().add(10)"
      ],
      "metadata": {
        "id": "L9tgkM33cFK5"
      },
      "execution_count": null,
      "outputs": []
    },
    {
      "cell_type": "markdown",
      "source": [
        "### **Model 2:** *Demand Based Price Function*"
      ],
      "metadata": {
        "id": "0KAmNVXjfVOo"
      }
    },
    {
      "cell_type": "code",
      "source": [
        "a,b,c,d,e = 1.0,0.8,0.6,1.2,0.5\n",
        "lam = 0.8\n",
        "\n",
        "df['raw_d'] = (\n",
        "      a*df['occ_rate']\n",
        "    + b*df['QueueLength_norm']\n",
        "    - c*df['TrafficConditionNearby_norm']\n",
        "    + d*df['IsSpecialDay']\n",
        "    + e*df['VT_weight']\n",
        ")\n",
        "dmin = df.groupby('ID')['raw_d'].transform('min')\n",
        "dmax = df.groupby('ID')['raw_d'].transform('max')\n",
        "df['d_norm'] = (df['raw_d'] - dmin) / (dmax - dmin + 1e-6)\n",
        "\n",
        "df['price_m2'] = 10*(1 + lam*df['d_norm'])\n",
        "df['price_m2'] = df['price_m2'].clip(5,20)"
      ],
      "metadata": {
        "id": "NI5pdoVCcRZ1"
      },
      "execution_count": null,
      "outputs": []
    },
    {
      "cell_type": "markdown",
      "source": [
        "###**Model 3:** *Competitive Pricing Model*"
      ],
      "metadata": {
        "id": "OGLpfkDFf6zj"
      }
    },
    {
      "cell_type": "code",
      "source": [
        "def comp_logic(r):\n",
        "    if r['Occupancy'] >= r['Capacity']:\n",
        "        r['price_m3'] = r['price_m2'] * 0.7\n",
        "        r['suggest_reroute'] = True\n",
        "    else:\n",
        "        uplift = 0.1 * r['price_m2'] * (1 - r['TrafficConditionNearby_norm'])\n",
        "        r['price_m3'] = r['price_m2'] + uplift\n",
        "        r['suggest_reroute'] = False\n",
        "    return r\n",
        "\n",
        "df = df.apply(comp_logic, axis=1)"
      ],
      "metadata": {
        "id": "2VihUHcxgL3M"
      },
      "execution_count": null,
      "outputs": []
    },
    {
      "cell_type": "code",
      "source": [
        "for m in ['price_m1','price_m2','price_m3']:\n",
        "    df[f'{m}_sm'] = df.groupby('ID')[m].transform(lambda x: x.ewm(alpha=0.2).mean())"
      ],
      "metadata": {
        "id": "BuLHirg4iiPE"
      },
      "execution_count": null,
      "outputs": []
    },
    {
      "cell_type": "code",
      "source": [
        "out = [\n",
        "  'Timestamp','ID','Occupancy','Capacity','occ_rate',\n",
        "  'QueueLength_norm','TrafficConditionNearby_norm','IsSpecialDay',\n",
        "  'VT_weight','price_m1','price_m2','price_m3',\n",
        "  'price_m1_sm','price_m2_sm','price_m3_sm','suggest_reroute'\n",
        "]\n",
        "df[out].to_csv('parking_stream_final.csv', index=False)"
      ],
      "metadata": {
        "id": "odVGachxgf1K"
      },
      "execution_count": null,
      "outputs": []
    },
    {
      "cell_type": "markdown",
      "source": [
        "### **Defining Pathway Schema:**"
      ],
      "metadata": {
        "id": "r_7vL1fy-iBy"
      }
    },
    {
      "cell_type": "code",
      "execution_count": null,
      "metadata": {
        "id": "H0pe3TGIyKJE"
      },
      "outputs": [],
      "source": [
        "class ParkingSchema(pw.Schema):\n",
        "    Timestamp: str; ID: int; Occupancy: int; Capacity: int\n",
        "    occ_rate: float; QueueLength_norm: float; TrafficConditionNearby_norm: float\n",
        "    IsSpecialDay: int; VT_weight: float\n",
        "    price_m1: float; price_m2: float; price_m3: float\n",
        "    price_m1_sm: float; price_m2_sm: float; price_m3_sm: float\n",
        "    suggest_reroute: bool\n",
        "\n",
        "stream = pw.demo.replay_csv(\n",
        "    'parking_stream_final.csv',\n",
        "    schema=ParkingSchema,\n",
        "    input_rate=500\n",
        ").with_columns(\n",
        "    t = pw.this.Timestamp.dt.strptime(\"%Y-%m-%d %H:%M:%S\")\n",
        ")"
      ]
    },
    {
      "cell_type": "markdown",
      "source": [
        "## **Bokeh visualization of all three models:**"
      ],
      "metadata": {
        "id": "5l4kk33O_DUu"
      }
    },
    {
      "cell_type": "code",
      "execution_count": null,
      "metadata": {
        "id": "MznsSjanveN5"
      },
      "outputs": [],
      "source": [
        "def enhanced_plot(src):\n",
        "    fig = bokeh.plotting.figure(\n",
        "        height=450, width=950,\n",
        "        title=\"Dynamic Pricing Models w/ Occupancy Overlay\",\n",
        "        x_axis_type=\"datetime\"\n",
        "    )\n",
        "    # Smooth prices\n",
        "    fig.line('t','price_m1_sm', source=src, color='blue',  line_width=2, legend_label=\"Model 1 (EWMA)\")\n",
        "    fig.line('t','price_m2_sm', source=src, color='green', line_width=2, legend_label=\"Model 2 (EWMA)\")\n",
        "    fig.line('t','price_m3_sm', source=src, color='red',   line_width=2, legend_label=\"Model 3 (EWMA)\")\n",
        "\n",
        "    # Occupancy on right axis\n",
        "    fig.extra_y_ranges = {\"occ\": Range1d(0,1)}\n",
        "    fig.add_layout(LinearAxis(y_range_name=\"occ\", axis_label=\"Occupancy Rate\"), 'right')\n",
        "    fig.line('t','occ_rate', source=src, y_range_name=\"occ\",\n",
        "             color='orange', line_dash='dotted', line_width=2,\n",
        "             legend_label=\"Occupancy Rate\")\n",
        "\n",
        "    # Reroute highlight via color map (gray=false, black=true)\n",
        "    cmap = linear_cmap('suggest_reroute', ['lightgray','black'], 0,1)\n",
        "    fig.scatter('t','price_m3', source=src, size=6, color=cmap, legend_label=\"Reroute Flag\")\n",
        "\n",
        "    # Hover\n",
        "    hover = HoverTool(tooltips=[\n",
        "        (\"Time\", \"@t{%F %H:%M}\"),\n",
        "        (\"Model 1\", \"@price_m1{0.00}\"),\n",
        "        (\"Model 2\", \"@price_m2{0.00}\"),\n",
        "        (\"Model 3\", \"@price_m3{0.00}\"),\n",
        "        (\"Occ\", \"@occ_rate{0.0%}\")\n",
        "    ], formatters={'@t':'datetime'}, mode='vline')\n",
        "    fig.add_tools(hover)\n",
        "\n",
        "    fig.legend.location = \"top_left\"\n",
        "    fig.legend.click_policy = \"hide\"\n",
        "    fig.xaxis.axis_label = \"Time\"\n",
        "    fig.yaxis.axis_label = \"Price (USD)\"\n",
        "\n",
        "    return fig\n",
        "\n",
        "pn.extension()\n",
        "dashboard = pn.Column(stream.plot(enhanced_plot, sorting_col='t'))\n",
        "dashboard.save('dashboard.html', embed=True)\n",
        "\n",
        "dashboard.servable()"
      ]
    },
    {
      "cell_type": "code",
      "execution_count": null,
      "metadata": {
        "id": "pklSMqmRp1Gh"
      },
      "outputs": [],
      "source": [
        "os.environ['PW_RUN_SANDBOX'] = 'true'\n",
        "pw.run()"
      ]
    }
  ],
  "metadata": {
    "colab": {
      "provenance": [],
      "include_colab_link": true
    },
    "kaggle": {
      "accelerator": "none",
      "dataSources": [
        {
          "datasetId": 7749157,
          "sourceId": 12294858,
          "sourceType": "datasetVersion"
        }
      ],
      "dockerImageVersionId": 31040,
      "isGpuEnabled": false,
      "isInternetEnabled": true,
      "language": "python",
      "sourceType": "notebook"
    },
    "kernelspec": {
      "display_name": "Python 3",
      "language": "python",
      "name": "python3"
    },
    "language_info": {
      "codemirror_mode": {
        "name": "ipython",
        "version": 3
      },
      "file_extension": ".py",
      "mimetype": "text/x-python",
      "name": "python",
      "nbconvert_exporter": "python",
      "pygments_lexer": "ipython3",
      "version": "3.11.11"
    }
  },
  "nbformat": 4,
  "nbformat_minor": 0
}