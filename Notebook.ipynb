{
  "cells": [
    {
      "cell_type": "markdown",
      "metadata": {
        "id": "view-in-github",
        "colab_type": "text"
      },
      "source": [
        "<a href=\"https://colab.research.google.com/github/rishank012/Capstone-Project/blob/main/Notebook.ipynb\" target=\"_parent\"><img src=\"https://colab.research.google.com/assets/colab-badge.svg\" alt=\"Open In Colab\"/></a>"
      ]
    },
    {
      "cell_type": "code",
      "execution_count": null,
      "metadata": {
        "id": "LlwkKnB50IGF"
      },
      "outputs": [],
      "source": [
        "!pip install pathway bokeh --quiet # This cell may take a few seconds to execute."
      ]
    },
    {
      "cell_type": "code",
      "execution_count": null,
      "metadata": {
        "id": "pHuc1nkJveN3"
      },
      "outputs": [],
      "source": [
        "import numpy as np\n",
        "import pandas as pd\n",
        "import matplotlib.pyplot as plt\n",
        "import datetime\n",
        "from datetime import datetime\n",
        "import pathway as pw\n",
        "import bokeh.plotting\n",
        "import panel as pn\n",
        "import os"
      ]
    },
    {
      "cell_type": "markdown",
      "metadata": {
        "id": "gGpZl1FxjFXE"
      },
      "source": [
        "# Step 1: Importing and Preprocessing the Data"
      ]
    },
    {
      "cell_type": "code",
      "source": [
        "    from google.colab import files\n",
        "    uploaded = files.upload()"
      ],
      "metadata": {
        "id": "aENcjJbyGrjs"
      },
      "execution_count": null,
      "outputs": []
    },
    {
      "cell_type": "code",
      "execution_count": null,
      "metadata": {
        "id": "4D6geoV9veN3"
      },
      "outputs": [],
      "source": [
        "df = pd.read_csv('dataset.csv')\n",
        "df"
      ]
    },
    {
      "cell_type": "code",
      "source": [
        "num_cols = [\n",
        "    'ID',                  # parking lot identifier\n",
        "    'Occupancy',\n",
        "    'Capacity',\n",
        "    'QueueLength',\n",
        "    'TrafficConditionNearby',\n",
        "    'IsSpecialDay'\n",
        "]\n",
        "df[num_cols] = (\n",
        "    df[num_cols]\n",
        "      .apply(lambda col: pd.to_numeric(col, errors='coerce'))\n",
        "      .fillna(0)\n",
        ")"
      ],
      "metadata": {
        "id": "zbJGFAz4Lvfl"
      },
      "execution_count": null,
      "outputs": []
    },
    {
      "cell_type": "code",
      "execution_count": null,
      "metadata": {
        "id": "QBrvlQTjveN4"
      },
      "outputs": [],
      "source": [
        "df['Timestamp'] = pd.to_datetime(df['LastUpdatedDate'] + ' ' + df['LastUpdatedTime'],\n",
        "                                 format='%d-%m-%Y %H:%M:%S')\n",
        "df = df.sort_values(['ID', 'Timestamp']).reset_index(drop=True)"
      ]
    },
    {
      "cell_type": "markdown",
      "source": [
        "# Feature Engineering:"
      ],
      "metadata": {
        "id": "kiqvuzd8cxtE"
      }
    },
    {
      "cell_type": "code",
      "execution_count": null,
      "metadata": {
        "id": "c52UkGGpveN5"
      },
      "outputs": [],
      "source": [
        "df['occ_rate'] = df['Occupancy'] / df['Capacity']\n",
        "\n",
        "for col in ['QueueLength', 'TrafficConditionNearby']:\n",
        "    mn = df.groupby('ID')[col].transform('min')\n",
        "    mx = df.groupby('ID')[col].transform('max')\n",
        "    df[f'{col}_norm'] = (df[col] - mn) / (mx - mn + 1e-6)\n",
        "\n",
        "vt_map = {'car': 1.0, 'bike': 0.5, 'truck': 1.5}\n",
        "df['VT_weight'] = df['VehicleType'].map(vt_map).fillna(1.0)"
      ]
    },
    {
      "cell_type": "markdown",
      "source": [
        "### **Model 1:** *Baseline Linear Model*"
      ],
      "metadata": {
        "id": "pj1PQM7hdMS8"
      }
    },
    {
      "cell_type": "code",
      "source": [
        "alpha = 0.5\n",
        "df['delta1'] = alpha * df['occ_rate']\n",
        "df['price_m1'] = df.groupby('ID')['delta1'].cumsum().add(10)"
      ],
      "metadata": {
        "id": "L9tgkM33cFK5"
      },
      "execution_count": null,
      "outputs": []
    },
    {
      "cell_type": "markdown",
      "source": [
        "### **Model 2:** *Demand Based Price Function*"
      ],
      "metadata": {
        "id": "0KAmNVXjfVOo"
      }
    },
    {
      "cell_type": "code",
      "source": [
        "a, b, c, d, e = 1.0, 0.8, 0.6, 1.2, 0.5\n",
        "lam = 0.8\n",
        "\n",
        "df['raw_d'] = (\n",
        "      a * df['occ_rate']\n",
        "    + b * df['QueueLength_norm']\n",
        "    - c * df['TrafficConditionNearby_norm']\n",
        "    + d * df['IsSpecialDay']\n",
        "    + e * df['VT_weight']\n",
        ")\n",
        "\n",
        "d_min = df.groupby('ID')['raw_d'].transform('min')\n",
        "d_max = df.groupby('ID')['raw_d'].transform('max')\n",
        "df['d_norm'] = (df['raw_d'] - d_min) / (d_max - d_min + 1e-6)\n",
        "\n",
        "df['price_m2'] = 10 * (1 + lam * df['d_norm'])\n",
        "df['price_m2'] = df['price_m2'].clip(lower=5, upper=20)\n",
        "a, b, c, d, e = 1.0, 0.8, 0.6, 1.2, 0.5\n",
        "lam = 0.8\n",
        "\n",
        "df['raw_d'] = (\n",
        "      a * df['occ_rate']\n",
        "    + b * df['QueueLength_norm']\n",
        "    - c * df['TrafficConditionNearby_norm']\n",
        "    + d * df['IsSpecialDay']\n",
        "    + e * df['VT_weight']\n",
        ")\n",
        "\n",
        "d_min = df.groupby('ID')['raw_d'].transform('min')\n",
        "d_max = df.groupby('ID')['raw_d'].transform('max')\n",
        "df['d_norm'] = (df['raw_d'] - d_min) / (d_max - d_min + 1e-6)\n",
        "\n",
        "df['price_m2'] = 10 * (1 + lam * df['d_norm'])\n",
        "df['price_m2'] = df['price_m2'].clip(lower=5, upper=20)"
      ],
      "metadata": {
        "id": "NI5pdoVCcRZ1"
      },
      "execution_count": null,
      "outputs": []
    },
    {
      "cell_type": "markdown",
      "source": [
        "###**Model 3:** *Competitive Pricing Model*"
      ],
      "metadata": {
        "id": "OGLpfkDFf6zj"
      }
    },
    {
      "cell_type": "code",
      "source": [
        "def comp_logic(row):\n",
        "    if row['Occupancy'] >= row['Capacity']:\n",
        "        row['price_m3'] = row['price_m2'] * 0.7\n",
        "        row['suggest_reroute'] = True\n",
        "    else:\n",
        "        uplift = 0.1 * row['price_m2'] * (1 - row['TrafficConditionNearby_norm'])\n",
        "        row['price_m3'] = row['price_m2'] + uplift\n",
        "        row['suggest_reroute'] = False\n",
        "    return row\n",
        "\n",
        "df = df.apply(comp_logic, axis=1)"
      ],
      "metadata": {
        "id": "2VihUHcxgL3M"
      },
      "execution_count": null,
      "outputs": []
    },
    {
      "cell_type": "code",
      "source": [
        "df.to_csv('parking.csv', index=False)"
      ],
      "metadata": {
        "id": "odVGachxgf1K"
      },
      "execution_count": null,
      "outputs": []
    },
    {
      "cell_type": "markdown",
      "source": [
        "### **Defining Pathway Schema:**"
      ],
      "metadata": {
        "id": "r_7vL1fy-iBy"
      }
    },
    {
      "cell_type": "code",
      "execution_count": null,
      "metadata": {
        "id": "H0pe3TGIyKJE"
      },
      "outputs": [],
      "source": [
        "class ParkingSchema(pw.Schema):\n",
        "    Timestamp: str\n",
        "    ID: int\n",
        "    Occupancy: int\n",
        "    Capacity: int\n",
        "    occ_rate: float\n",
        "    QueueLength_norm: float\n",
        "    TrafficConditionNearby_norm: float\n",
        "    IsSpecialDay: int\n",
        "    VT_weight: float\n",
        "    price_m1: float\n",
        "    price_m2: float\n",
        "    price_m3: float\n",
        "    suggest_reroute: bool"
      ]
    },
    {
      "cell_type": "code",
      "execution_count": null,
      "metadata": {
        "id": "a4LxMh4xziMv"
      },
      "outputs": [],
      "source": [
        "data = pw.demo.replay_csv(\n",
        "    'parking.csv',\n",
        "    schema=ParkingSchema,\n",
        "    input_rate=500\n",
        ")"
      ]
    },
    {
      "cell_type": "code",
      "execution_count": null,
      "metadata": {
        "id": "IkBP_AA-zjec"
      },
      "outputs": [],
      "source": [
        "fmt = '%Y-%m-%d %H:%M:%S'\n",
        "stream = data.with_columns(t = data.Timestamp.dt.strptime(fmt))"
      ]
    },
    {
      "cell_type": "markdown",
      "source": [
        "## **Bokeh visualization of all three models:**"
      ],
      "metadata": {
        "id": "5l4kk33O_DUu"
      }
    },
    {
      "cell_type": "code",
      "execution_count": null,
      "metadata": {
        "id": "MznsSjanveN5"
      },
      "outputs": [],
      "source": [
        "def multi_price_plot(source):\n",
        "    fig = bokeh.plotting.figure(\n",
        "        height=400, width=900,\n",
        "        title='Dynamic Parking Prices: Models 1, 2 & 3',\n",
        "        x_axis_type='datetime'\n",
        "    )\n",
        "    fig.line('t','price_m1', source=source, color='blue',  legend_label='Model 1')\n",
        "    fig.line('t','price_m2', source=source, color='green',legend_label='Model 2')\n",
        "    fig.line('t','price_m3', source=source, color='red',   legend_label='Model 3')\n",
        "    fig.legend.location = 'top_left'\n",
        "    return fig\n",
        "\n",
        "pn.extension()\n",
        "viz = stream.plot(multi_price_plot, sorting_col='t')\n",
        "pn.Column(viz).servable()"
      ]
    },
    {
      "cell_type": "code",
      "execution_count": null,
      "metadata": {
        "id": "pklSMqmRp1Gh"
      },
      "outputs": [],
      "source": [
        "os.environ['PW_RUN_SANDBOX'] = 'true'\n",
        "pw.run()"
      ]
    }
  ],
  "metadata": {
    "colab": {
      "provenance": [],
      "include_colab_link": true
    },
    "kaggle": {
      "accelerator": "none",
      "dataSources": [
        {
          "datasetId": 7749157,
          "sourceId": 12294858,
          "sourceType": "datasetVersion"
        }
      ],
      "dockerImageVersionId": 31040,
      "isGpuEnabled": false,
      "isInternetEnabled": true,
      "language": "python",
      "sourceType": "notebook"
    },
    "kernelspec": {
      "display_name": "Python 3",
      "language": "python",
      "name": "python3"
    },
    "language_info": {
      "codemirror_mode": {
        "name": "ipython",
        "version": 3
      },
      "file_extension": ".py",
      "mimetype": "text/x-python",
      "name": "python",
      "nbconvert_exporter": "python",
      "pygments_lexer": "ipython3",
      "version": "3.11.11"
    }
  },
  "nbformat": 4,
  "nbformat_minor": 0
}